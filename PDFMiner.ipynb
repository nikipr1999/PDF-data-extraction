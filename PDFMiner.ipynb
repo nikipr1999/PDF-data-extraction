{
 "cells": [
  {
   "cell_type": "code",
   "execution_count": 5,
   "metadata": {},
   "outputs": [
    {
     "name": "stdout",
     "output_type": "stream",
     "text": [
      "ProgrammingExercise2:LogisticRegressionMachineLearningIntroductionInthisexercise,youwillimplementlogisticregressionandapplyittotwodiﬀerentdatasets.Beforestartingontheprogrammingexercise,westronglyrecommendwatchingthevideolecturesandcompletingthereviewquestionsfortheassociatedtopics.Togetstartedwiththeexercise,youwillneedtodownloadthestartercodeandunzipitscontentstothedirectorywhereyouwishtocompletetheexercise.Ifneeded,usethecdcommandinOctave/MATLABtochangetothisdirectorybeforestartingthisexercise.YoucanalsoﬁndinstructionsforinstallingOctave/MATLABinthe“En-vironmentSetupInstructions”ofthecoursewebsite.Filesincludedinthisexerciseex2.m-Octave/MATLABscriptthatstepsyouthroughtheexerciseex2reg.m-Octave/MATLABscriptforthelaterpartsoftheexerciseex2data1.txt-Trainingsetfortheﬁrsthalfoftheexerciseex2data2.txt-Trainingsetforthesecondhalfoftheexercisesubmit.m-SubmissionscriptthatsendsyoursolutionstoourserversmapFeature.m-FunctiontogeneratepolynomialfeaturesplotDecisionBoundary.m-Functiontoplotclassiﬁer’sdecisionbound-ary[(cid:63)]plotData.m-Functiontoplot2Dclassiﬁcationdata[(cid:63)]sigmoid.m-SigmoidFunction[(cid:63)]costFunction.m-LogisticRegressionCostFunction[(cid:63)]predict.m-LogisticRegressionPredictionFunction[(cid:63)]costFunctionReg.m-RegularizedLogisticRegressionCost(cid:63)indicatesﬁlesyouwillneedtocomplete1\f",
      "Throughouttheexercise,youwillbeusingthescriptsex2.mandex2reg.m.Thesescriptssetupthedatasetfortheproblemsandmakecallstofunctionsthatyouwillwrite.Youdonotneedtomodifyeitherofthem.Youareonlyrequiredtomodifyfunctionsinotherﬁles,byfollowingtheinstructionsinthisassignment.WheretogethelpTheexercisesinthiscourseuseOctave1orMATLAB,ahigh-levelprogram-minglanguagewell-suitedfornumericalcomputations.IfyoudonothaveOctaveorMATLABinstalled,pleaserefertotheinstallationinstructionsinthe“EnvironmentSetupInstructions”ofthecoursewebsite.AttheOctave/MATLABcommandline,typinghelpfollowedbyafunc-tionnamedisplaysdocumentationforabuilt-infunction.Forexample,helpplotwillbringuphelpinformationforplotting.FurtherdocumentationforOctavefunctionscanbefoundattheOctavedocumentationpages.MAT-LABdocumentationcanbefoundattheMATLABdocumentationpages.WealsostronglyencourageusingtheonlineDiscussionstodiscussex-erciseswithotherstudents.However,donotlookatanysourcecodewrittenbyothersorshareyoursourcecodewithothers.1LogisticRegressionInthispartoftheexercise,youwillbuildalogisticregressionmodeltopredictwhetherastudentgetsadmittedintoauniversity.Supposethatyouaretheadministratorofauniversitydepartmentandyouwanttodetermineeachapplicant’schanceofadmissionbasedontheirresultsontwoexams.Youhavehistoricaldatafrompreviousapplicantsthatyoucanuseasatrainingsetforlogisticregression.Foreachtrainingexample,youhavetheapplicant’sscoresontwoexamsandtheadmissionsdecision.Yourtaskistobuildaclassiﬁcationmodelthatestimatesanapplicant’sprobabilityofadmissionbasedthescoresfromthosetwoexams.Thisoutlineandtheframeworkcodeinex2.mwillguideyouthroughtheexercise.1OctaveisafreealternativetoMATLAB.Fortheprogrammingexercises,youarefreetouseeitherOctaveorMATLAB.2\f",
      "\n"
     ]
    }
   ],
   "source": [
    "import io\n",
    "from pdfminer.converter import TextConverter\n",
    "from pdfminer.pdfinterp import PDFPageInterpreter\n",
    "from pdfminer.pdfinterp import PDFResourceManager\n",
    "from pdfminer.pdfpage import PDFPage\n",
    "def extract_text_from_pdf(pdf_path):\n",
    "    resource_manager = PDFResourceManager()\n",
    "    fake_file_handle = io.StringIO()\n",
    "    converter = TextConverter(resource_manager, fake_file_handle)\n",
    "    page_interpreter = PDFPageInterpreter(resource_manager, converter)\n",
    "    with open(pdf_path, 'rb') as fh:\n",
    "        for page in PDFPage.get_pages(fh, \n",
    "                                      caching=True,\n",
    "                                      check_extractable=True):\n",
    "            page_interpreter.process_page(page)\n",
    "        text = fake_file_handle.getvalue()\n",
    "    # close open handles\n",
    "    converter.close()\n",
    "    fake_file_handle.close()\n",
    "    if text:\n",
    "        return text\n",
    "if __name__ == '__main__':\n",
    "    print(extract_text_from_pdf('data-extracter-utility/ex20.pdf'))"
   ]
  },
  {
   "cell_type": "code",
   "execution_count": null,
   "metadata": {},
   "outputs": [],
   "source": [
    "pdf2txt.py samples/w9.pdf"
   ]
  },
  {
   "cell_type": "code",
   "execution_count": null,
   "metadata": {},
   "outputs": [],
   "source": []
  }
 ],
 "metadata": {
  "kernelspec": {
   "display_name": "Python 3",
   "language": "python",
   "name": "python3"
  },
  "language_info": {
   "codemirror_mode": {
    "name": "ipython",
    "version": 3
   },
   "file_extension": ".py",
   "mimetype": "text/x-python",
   "name": "python",
   "nbconvert_exporter": "python",
   "pygments_lexer": "ipython3",
   "version": "3.7.3"
  }
 },
 "nbformat": 4,
 "nbformat_minor": 2
}
