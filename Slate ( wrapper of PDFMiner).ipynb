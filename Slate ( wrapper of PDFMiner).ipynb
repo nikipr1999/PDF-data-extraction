{
 "cells": [
  {
   "cell_type": "code",
   "execution_count": 2,
   "metadata": {},
   "outputs": [
    {
     "name": "stdout",
     "output_type": "stream",
     "text": [
      "Collecting pip\n",
      "  Downloading https://files.pythonhosted.org/packages/54/2e/df11ea7e23e7e761d484ed3740285a34e38548cf2bad2bed3dd5768ec8b9/pip-20.1-py2.py3-none-any.whl (1.5MB)\n",
      "Installing collected packages: pip\n",
      "  Found existing installation: pip 19.3.1\n",
      "    Uninstalling pip-19.3.1:\n",
      "      Successfully uninstalled pip-19.3.1\n",
      "Successfully installed pip-20.1\n"
     ]
    }
   ],
   "source": [
    "!python -m pip install --upgrade pip\n"
   ]
  },
  {
   "cell_type": "code",
   "execution_count": 4,
   "metadata": {},
   "outputs": [
    {
     "name": "stdout",
     "output_type": "stream",
     "text": [
      "Collecting git+https://github.com/timClicks/slate\n",
      "  Cloning https://github.com/timClicks/slate to c:\\users\\nikita prajapati\\appdata\\local\\temp\\pip-req-build-ujiro01p\n",
      "Requirement already satisfied: setuptools in c:\\users\\nikita prajapati\\anaconda3\\lib\\site-packages (from slate==0.5.2) (40.8.0)\n",
      "Collecting pdfminer3k\n",
      "  Downloading pdfminer3k-1.3.1.tar.gz (4.1 MB)\n",
      "Requirement already satisfied: pytest>=2.0 in c:\\users\\nikita prajapati\\anaconda3\\lib\\site-packages (from pdfminer3k->slate==0.5.2) (4.3.1)\n",
      "Requirement already satisfied: ply>=3.4 in c:\\users\\nikita prajapati\\anaconda3\\lib\\site-packages (from pdfminer3k->slate==0.5.2) (3.11)\n",
      "Requirement already satisfied: py>=1.5.0 in c:\\users\\nikita prajapati\\anaconda3\\lib\\site-packages (from pytest>=2.0->pdfminer3k->slate==0.5.2) (1.8.0)\n",
      "Requirement already satisfied: six>=1.10.0 in c:\\users\\nikita prajapati\\anaconda3\\lib\\site-packages (from pytest>=2.0->pdfminer3k->slate==0.5.2) (1.12.0)\n",
      "Requirement already satisfied: attrs>=17.4.0 in c:\\users\\nikita prajapati\\anaconda3\\lib\\site-packages (from pytest>=2.0->pdfminer3k->slate==0.5.2) (19.1.0)\n",
      "Requirement already satisfied: atomicwrites>=1.0 in c:\\users\\nikita prajapati\\anaconda3\\lib\\site-packages (from pytest>=2.0->pdfminer3k->slate==0.5.2) (1.3.0)\n",
      "Requirement already satisfied: pluggy>=0.7 in c:\\users\\nikita prajapati\\anaconda3\\lib\\site-packages (from pytest>=2.0->pdfminer3k->slate==0.5.2) (0.9.0)\n",
      "Requirement already satisfied: more-itertools>=4.0.0 in c:\\users\\nikita prajapati\\anaconda3\\lib\\site-packages (from pytest>=2.0->pdfminer3k->slate==0.5.2) (6.0.0)\n",
      "Requirement already satisfied: colorama in c:\\users\\nikita prajapati\\anaconda3\\lib\\site-packages (from pytest>=2.0->pdfminer3k->slate==0.5.2) (0.4.1)\n",
      "Building wheels for collected packages: slate, pdfminer3k\n",
      "  Building wheel for slate (setup.py): started\n",
      "  Building wheel for slate (setup.py): finished with status 'done'\n",
      "  Created wheel for slate: filename=slate-0.5.2-py3-none-any.whl size=18418 sha256=17875dfd5eca1efac5d9eb57b26a65afbb66d720110e0cbf59d810abb97fda48\n",
      "  Stored in directory: C:\\Users\\Nikita Prajapati\\AppData\\Local\\Temp\\pip-ephem-wheel-cache-ccs_jx1g\\wheels\\1c\\28\\d2\\cf09b680026207052c165e62ba9ae93dbd938188f8cc2418a3\n",
      "  Building wheel for pdfminer3k (setup.py): started\n",
      "  Building wheel for pdfminer3k (setup.py): finished with status 'done'\n",
      "  Created wheel for pdfminer3k: filename=pdfminer3k-1.3.1-py3-none-any.whl size=105359 sha256=72c6dc0db5d7ece6bc4a947ee3a84d21f800e3ae78e9a22345a0ed343fe2de3f\n",
      "  Stored in directory: c:\\users\\nikita prajapati\\appdata\\local\\pip\\cache\\wheels\\a0\\01\\8f\\91cc04fb57e65aac816dce1bf6d01d6769e103820967a31ba4\n",
      "Successfully built slate pdfminer3k\n",
      "Installing collected packages: pdfminer3k, slate\n",
      "Successfully installed pdfminer3k-1.3.1 slate-0.5.2\n"
     ]
    },
    {
     "name": "stderr",
     "output_type": "stream",
     "text": [
      "  Running command git clone -q https://github.com/timClicks/slate 'C:\\Users\\Nikita Prajapati\\AppData\\Local\\Temp\\pip-req-build-ujiro01p'\n"
     ]
    }
   ],
   "source": [
    "#  !pip install slate   \n",
    "# above installation is not working \n",
    "# pip is unable to identify slate\n",
    "\n",
    "\n",
    "# installing directly via github\n",
    "!python -m pip install git+https://github.com/timClicks/slate"
   ]
  },
  {
   "cell_type": "code",
   "execution_count": 15,
   "metadata": {},
   "outputs": [
    {
     "ename": "ModuleNotFoundError",
     "evalue": "No module named 'utils'",
     "output_type": "error",
     "traceback": [
      "\u001b[1;31m---------------------------------------------------------------------------\u001b[0m",
      "\u001b[1;31mModuleNotFoundError\u001b[0m                       Traceback (most recent call last)",
      "\u001b[1;32m<ipython-input-15-e67281cde15f>\u001b[0m in \u001b[0;36m<module>\u001b[1;34m\u001b[0m\n\u001b[1;32m----> 1\u001b[1;33m \u001b[1;32mimport\u001b[0m \u001b[0mslate\u001b[0m\u001b[1;33m\u001b[0m\u001b[1;33m\u001b[0m\u001b[0m\n\u001b[0m\u001b[0;32m      2\u001b[0m \u001b[1;32mfrom\u001b[0m \u001b[0msrc\u001b[0m \u001b[1;32mimport\u001b[0m \u001b[0mslate\u001b[0m\u001b[1;33m\u001b[0m\u001b[1;33m\u001b[0m\u001b[0m\n",
      "\u001b[1;32m~\\Anaconda3\\lib\\site-packages\\slate\\__init__.py\u001b[0m in \u001b[0;36m<module>\u001b[1;34m\u001b[0m\n\u001b[0;32m     64\u001b[0m \u001b[1;31m#along with slate.  If not, see <http://www.gnu.org/licenses/>.\u001b[0m\u001b[1;33m\u001b[0m\u001b[1;33m\u001b[0m\u001b[1;33m\u001b[0m\u001b[0m\n\u001b[0;32m     65\u001b[0m \u001b[1;33m\u001b[0m\u001b[0m\n\u001b[1;32m---> 66\u001b[1;33m \u001b[1;32mfrom\u001b[0m \u001b[1;33m.\u001b[0m\u001b[0mclasses\u001b[0m \u001b[1;32mimport\u001b[0m \u001b[0mPDF\u001b[0m\u001b[1;33m\u001b[0m\u001b[1;33m\u001b[0m\u001b[0m\n\u001b[0m",
      "\u001b[1;32m~\\Anaconda3\\lib\\site-packages\\slate\\classes.py\u001b[0m in \u001b[0;36m<module>\u001b[1;34m\u001b[0m\n\u001b[0;32m     23\u001b[0m \u001b[1;32mexcept\u001b[0m \u001b[0mImportError\u001b[0m\u001b[1;33m:\u001b[0m\u001b[1;33m\u001b[0m\u001b[1;33m\u001b[0m\u001b[0m\n\u001b[0;32m     24\u001b[0m     \u001b[1;32mfrom\u001b[0m \u001b[0mpdfminer\u001b[0m\u001b[1;33m.\u001b[0m\u001b[0mpdfpage\u001b[0m \u001b[1;32mimport\u001b[0m \u001b[0mPDFPage\u001b[0m\u001b[1;33m\u001b[0m\u001b[1;33m\u001b[0m\u001b[0m\n\u001b[1;32m---> 25\u001b[1;33m \u001b[1;32mimport\u001b[0m \u001b[0mutils\u001b[0m\u001b[1;33m\u001b[0m\u001b[1;33m\u001b[0m\u001b[0m\n\u001b[0m\u001b[0;32m     26\u001b[0m \u001b[1;33m\u001b[0m\u001b[0m\n\u001b[0;32m     27\u001b[0m \u001b[0m__all__\u001b[0m \u001b[1;33m=\u001b[0m \u001b[1;33m[\u001b[0m\u001b[1;34m'PDF'\u001b[0m\u001b[1;33m]\u001b[0m\u001b[1;33m\u001b[0m\u001b[1;33m\u001b[0m\u001b[0m\n",
      "\u001b[1;31mModuleNotFoundError\u001b[0m: No module named 'utils'"
     ]
    }
   ],
   "source": [
    "import slate\n",
    "from src import slate\n"
   ]
  },
  {
   "cell_type": "code",
   "execution_count": 18,
   "metadata": {},
   "outputs": [
    {
     "ename": "ModuleNotFoundError",
     "evalue": "No module named 'utils'",
     "output_type": "error",
     "traceback": [
      "\u001b[1;31m---------------------------------------------------------------------------\u001b[0m",
      "\u001b[1;31mModuleNotFoundError\u001b[0m                       Traceback (most recent call last)",
      "\u001b[1;32m<ipython-input-18-f5fcef547a0f>\u001b[0m in \u001b[0;36m<module>\u001b[1;34m\u001b[0m\n\u001b[0;32m      1\u001b[0m \u001b[1;31m# slate_text_extraction.py\u001b[0m\u001b[1;33m\u001b[0m\u001b[1;33m\u001b[0m\u001b[1;33m\u001b[0m\u001b[0m\n\u001b[1;32m----> 2\u001b[1;33m \u001b[1;32mimport\u001b[0m \u001b[0mslate\u001b[0m\u001b[1;33m\u001b[0m\u001b[1;33m\u001b[0m\u001b[0m\n\u001b[0m\u001b[0;32m      3\u001b[0m \u001b[1;32mdef\u001b[0m \u001b[0mextract_text_from_pdf\u001b[0m\u001b[1;33m(\u001b[0m\u001b[0mpdf_path\u001b[0m\u001b[1;33m)\u001b[0m\u001b[1;33m:\u001b[0m\u001b[1;33m\u001b[0m\u001b[1;33m\u001b[0m\u001b[0m\n\u001b[0;32m      4\u001b[0m     \u001b[1;32mwith\u001b[0m \u001b[0mopen\u001b[0m\u001b[1;33m(\u001b[0m\u001b[0mpdf_path\u001b[0m\u001b[1;33m)\u001b[0m \u001b[1;32mas\u001b[0m \u001b[0mfh\u001b[0m\u001b[1;33m:\u001b[0m\u001b[1;33m\u001b[0m\u001b[1;33m\u001b[0m\u001b[0m\n\u001b[0;32m      5\u001b[0m         \u001b[0mdocument\u001b[0m \u001b[1;33m=\u001b[0m \u001b[0mclasses\u001b[0m\u001b[1;33m.\u001b[0m\u001b[0mPDF\u001b[0m\u001b[1;33m(\u001b[0m\u001b[0mfh\u001b[0m\u001b[1;33m,\u001b[0m \u001b[0mpassword\u001b[0m\u001b[1;33m=\u001b[0m\u001b[1;34m''\u001b[0m\u001b[1;33m,\u001b[0m \u001b[0mjust_text\u001b[0m\u001b[1;33m=\u001b[0m\u001b[1;36m1\u001b[0m\u001b[1;33m)\u001b[0m\u001b[1;33m\u001b[0m\u001b[1;33m\u001b[0m\u001b[0m\n",
      "\u001b[1;32m~\\Anaconda3\\lib\\site-packages\\slate\\__init__.py\u001b[0m in \u001b[0;36m<module>\u001b[1;34m\u001b[0m\n\u001b[0;32m     64\u001b[0m \u001b[1;31m#along with slate.  If not, see <http://www.gnu.org/licenses/>.\u001b[0m\u001b[1;33m\u001b[0m\u001b[1;33m\u001b[0m\u001b[1;33m\u001b[0m\u001b[0m\n\u001b[0;32m     65\u001b[0m \u001b[1;33m\u001b[0m\u001b[0m\n\u001b[1;32m---> 66\u001b[1;33m \u001b[1;32mfrom\u001b[0m \u001b[1;33m.\u001b[0m\u001b[0mclasses\u001b[0m \u001b[1;32mimport\u001b[0m \u001b[0mPDF\u001b[0m\u001b[1;33m\u001b[0m\u001b[1;33m\u001b[0m\u001b[0m\n\u001b[0m",
      "\u001b[1;32m~\\Anaconda3\\lib\\site-packages\\slate\\classes.py\u001b[0m in \u001b[0;36m<module>\u001b[1;34m\u001b[0m\n\u001b[0;32m     23\u001b[0m \u001b[1;32mexcept\u001b[0m \u001b[0mImportError\u001b[0m\u001b[1;33m:\u001b[0m\u001b[1;33m\u001b[0m\u001b[1;33m\u001b[0m\u001b[0m\n\u001b[0;32m     24\u001b[0m     \u001b[1;32mfrom\u001b[0m \u001b[0mpdfminer\u001b[0m\u001b[1;33m.\u001b[0m\u001b[0mpdfpage\u001b[0m \u001b[1;32mimport\u001b[0m \u001b[0mPDFPage\u001b[0m\u001b[1;33m\u001b[0m\u001b[1;33m\u001b[0m\u001b[0m\n\u001b[1;32m---> 25\u001b[1;33m \u001b[1;32mimport\u001b[0m \u001b[0mutils\u001b[0m\u001b[1;33m\u001b[0m\u001b[1;33m\u001b[0m\u001b[0m\n\u001b[0m\u001b[0;32m     26\u001b[0m \u001b[1;33m\u001b[0m\u001b[0m\n\u001b[0;32m     27\u001b[0m \u001b[0m__all__\u001b[0m \u001b[1;33m=\u001b[0m \u001b[1;33m[\u001b[0m\u001b[1;34m'PDF'\u001b[0m\u001b[1;33m]\u001b[0m\u001b[1;33m\u001b[0m\u001b[1;33m\u001b[0m\u001b[0m\n",
      "\u001b[1;31mModuleNotFoundError\u001b[0m: No module named 'utils'"
     ]
    }
   ],
   "source": [
    "# slate_text_extraction.py\n",
    "import slate\n",
    "def extract_text_from_pdf(pdf_path):\n",
    "    with open(pdf_path) as fh:\n",
    "        document = classes.PDF(fh, password='', just_text=1)\n",
    "    for page in document:\n",
    "        print(page)\n",
    "if __name__ == '__main__':\n",
    "    extract_text_from_pdf('w9.pdf')"
   ]
  },
  {
   "cell_type": "code",
   "execution_count": null,
   "metadata": {},
   "outputs": [],
   "source": [
    "# slate_text_extraction.py\n",
    "import slate\n",
    "def extract_text_from_pdf(pdf_path):\n",
    "    with open(pdf_path) as fh:\n",
    "        document = slate.PDF(fh, password='', just_text=1)\n",
    "    for page in document:\n",
    "        print(page)\n",
    "if __name__ == '__main__':\n",
    "    extract_text_from_pdf('ex21.pdf')"
   ]
  },
  {
   "cell_type": "code",
   "execution_count": 17,
   "metadata": {},
   "outputs": [
    {
     "ename": "NameError",
     "evalue": "name 'slate' is not defined",
     "output_type": "error",
     "traceback": [
      "\u001b[1;31m---------------------------------------------------------------------------\u001b[0m",
      "\u001b[1;31mNameError\u001b[0m                                 Traceback (most recent call last)",
      "\u001b[1;32m<ipython-input-17-6b6d056dfc28>\u001b[0m in \u001b[0;36m<module>\u001b[1;34m\u001b[0m\n\u001b[0;32m      1\u001b[0m \u001b[1;32mwith\u001b[0m \u001b[0mopen\u001b[0m\u001b[1;33m(\u001b[0m\u001b[1;34m'ex20.pdf'\u001b[0m\u001b[1;33m)\u001b[0m \u001b[1;32mas\u001b[0m \u001b[0mf\u001b[0m\u001b[1;33m:\u001b[0m\u001b[1;33m\u001b[0m\u001b[1;33m\u001b[0m\u001b[0m\n\u001b[1;32m----> 2\u001b[1;33m     \u001b[0mdoc\u001b[0m \u001b[1;33m=\u001b[0m \u001b[0mslate\u001b[0m\u001b[1;33m.\u001b[0m\u001b[0mPDF\u001b[0m\u001b[1;33m(\u001b[0m\u001b[0mf\u001b[0m\u001b[1;33m)\u001b[0m\u001b[1;33m\u001b[0m\u001b[1;33m\u001b[0m\u001b[0m\n\u001b[0m",
      "\u001b[1;31mNameError\u001b[0m: name 'slate' is not defined"
     ]
    }
   ],
   "source": [
    "with open('ex20.pdf') as f:\n",
    "    doc = slate.PDF(f)"
   ]
  },
  {
   "cell_type": "code",
   "execution_count": null,
   "metadata": {},
   "outputs": [],
   "source": []
  }
 ],
 "metadata": {
  "kernelspec": {
   "display_name": "Python 3",
   "language": "python",
   "name": "python3"
  },
  "language_info": {
   "codemirror_mode": {
    "name": "ipython",
    "version": 3
   },
   "file_extension": ".py",
   "mimetype": "text/x-python",
   "name": "python",
   "nbconvert_exporter": "python",
   "pygments_lexer": "ipython3",
   "version": "3.7.3"
  }
 },
 "nbformat": 4,
 "nbformat_minor": 2
}
